{
  "nbformat": 4,
  "nbformat_minor": 0,
  "metadata": {
    "colab": {
      "provenance": []
    },
    "kernelspec": {
      "name": "python3",
      "display_name": "Python 3"
    },
    "language_info": {
      "name": "python"
    },
    "widgets": {
      "application/vnd.jupyter.widget-state+json": {
        "8430508adb994c8eb5985cc2dce9a916": {
          "model_module": "@jupyter-widgets/controls",
          "model_name": "VBoxModel",
          "model_module_version": "1.5.0",
          "state": {
            "_dom_classes": [],
            "_model_module": "@jupyter-widgets/controls",
            "_model_module_version": "1.5.0",
            "_model_name": "VBoxModel",
            "_view_count": null,
            "_view_module": "@jupyter-widgets/controls",
            "_view_module_version": "1.5.0",
            "_view_name": "VBoxView",
            "box_style": "",
            "children": [
              "IPY_MODEL_a9e32da1a670403593e3e7e9fab412a7",
              "IPY_MODEL_a28683ad45de42378ea191026437bfca",
              "IPY_MODEL_5d8f391083284815a72159d6164cdcf3",
              "IPY_MODEL_477d34bb0de14793a9eb84f3d63076b4",
              "IPY_MODEL_c71f10beb0c142d390f61f2539b42203"
            ],
            "layout": "IPY_MODEL_e42060646eec4e7aa012982983d534d4"
          }
        },
        "a9e32da1a670403593e3e7e9fab412a7": {
          "model_module": "@jupyter-widgets/controls",
          "model_name": "LabelModel",
          "model_module_version": "1.5.0",
          "state": {
            "_dom_classes": [],
            "_model_module": "@jupyter-widgets/controls",
            "_model_module_version": "1.5.0",
            "_model_name": "LabelModel",
            "_view_count": null,
            "_view_module": "@jupyter-widgets/controls",
            "_view_module_version": "1.5.0",
            "_view_name": "LabelView",
            "description": "",
            "description_tooltip": null,
            "layout": "IPY_MODEL_bc0cad839fa7409faf1e07c795e9b51e",
            "placeholder": "​",
            "style": "IPY_MODEL_3b5d17cfad3a4eb995e39bb4eb094c95",
            "value": "Select your Shoe!"
          }
        },
        "a28683ad45de42378ea191026437bfca": {
          "model_module": "@jupyter-widgets/controls",
          "model_name": "FileUploadModel",
          "model_module_version": "1.5.0",
          "state": {
            "_counter": 3,
            "_dom_classes": [],
            "_model_module": "@jupyter-widgets/controls",
            "_model_module_version": "1.5.0",
            "_model_name": "FileUploadModel",
            "_view_count": null,
            "_view_module": "@jupyter-widgets/controls",
            "_view_module_version": "1.5.0",
            "_view_name": "FileUploadView",
            "accept": "",
            "button_style": "",
            "data": [
              null
            ],
            "description": "Upload",
            "description_tooltip": null,
            "disabled": false,
            "error": "",
            "icon": "upload",
            "layout": "IPY_MODEL_e7e8d3ae889943999ab1ff0a96b7c341",
            "metadata": [
              {
                "name": "boots.webp",
                "type": "image/webp",
                "size": 11344,
                "lastModified": 1726804284818
              }
            ],
            "multiple": false,
            "style": "IPY_MODEL_84debea515924f9e9c73b83cd57048e6"
          }
        },
        "5d8f391083284815a72159d6164cdcf3": {
          "model_module": "@jupyter-widgets/controls",
          "model_name": "ButtonModel",
          "model_module_version": "1.5.0",
          "state": {
            "_dom_classes": [],
            "_model_module": "@jupyter-widgets/controls",
            "_model_module_version": "1.5.0",
            "_model_name": "ButtonModel",
            "_view_count": null,
            "_view_module": "@jupyter-widgets/controls",
            "_view_module_version": "1.5.0",
            "_view_name": "ButtonView",
            "button_style": "",
            "description": "Classify",
            "disabled": false,
            "icon": "",
            "layout": "IPY_MODEL_a686bfc087564c598c0ab7ec8940b0cd",
            "style": "IPY_MODEL_cb1786147f8048698984f3712a3f17ef",
            "tooltip": ""
          }
        },
        "477d34bb0de14793a9eb84f3d63076b4": {
          "model_module": "@jupyter-widgets/output",
          "model_name": "OutputModel",
          "model_module_version": "1.0.0",
          "state": {
            "_dom_classes": [],
            "_model_module": "@jupyter-widgets/output",
            "_model_module_version": "1.0.0",
            "_model_name": "OutputModel",
            "_view_count": null,
            "_view_module": "@jupyter-widgets/output",
            "_view_module_version": "1.0.0",
            "_view_name": "OutputView",
            "layout": "IPY_MODEL_f5bd5742f96e46128ccacdb07610b7ce",
            "msg_id": "",
            "outputs": [
              {
                "output_type": "display_data",
                "data": {
                  "text/plain": "<PIL.Image.Image image mode=RGB size=124x128>",
                  "image/png": "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\n",
                  "image/jpeg": "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\n"
                },
                "metadata": {}
              }
            ]
          }
        },
        "c71f10beb0c142d390f61f2539b42203": {
          "model_module": "@jupyter-widgets/controls",
          "model_name": "LabelModel",
          "model_module_version": "1.5.0",
          "state": {
            "_dom_classes": [],
            "_model_module": "@jupyter-widgets/controls",
            "_model_module_version": "1.5.0",
            "_model_name": "LabelModel",
            "_view_count": null,
            "_view_module": "@jupyter-widgets/controls",
            "_view_module_version": "1.5.0",
            "_view_name": "LabelView",
            "description": "",
            "description_tooltip": null,
            "layout": "IPY_MODEL_7fb399b3760f4f579bbb9f7f1fe6884d",
            "placeholder": "​",
            "style": "IPY_MODEL_da21ebabe23d4d80b75f1a002d4c9f8b",
            "value": "Prediction: boots; Probability: 0.9997"
          }
        },
        "e42060646eec4e7aa012982983d534d4": {
          "model_module": "@jupyter-widgets/base",
          "model_name": "LayoutModel",
          "model_module_version": "1.2.0",
          "state": {
            "_model_module": "@jupyter-widgets/base",
            "_model_module_version": "1.2.0",
            "_model_name": "LayoutModel",
            "_view_count": null,
            "_view_module": "@jupyter-widgets/base",
            "_view_module_version": "1.2.0",
            "_view_name": "LayoutView",
            "align_content": null,
            "align_items": null,
            "align_self": null,
            "border": null,
            "bottom": null,
            "display": null,
            "flex": null,
            "flex_flow": null,
            "grid_area": null,
            "grid_auto_columns": null,
            "grid_auto_flow": null,
            "grid_auto_rows": null,
            "grid_column": null,
            "grid_gap": null,
            "grid_row": null,
            "grid_template_areas": null,
            "grid_template_columns": null,
            "grid_template_rows": null,
            "height": null,
            "justify_content": null,
            "justify_items": null,
            "left": null,
            "margin": null,
            "max_height": null,
            "max_width": null,
            "min_height": null,
            "min_width": null,
            "object_fit": null,
            "object_position": null,
            "order": null,
            "overflow": null,
            "overflow_x": null,
            "overflow_y": null,
            "padding": null,
            "right": null,
            "top": null,
            "visibility": null,
            "width": null
          }
        },
        "bc0cad839fa7409faf1e07c795e9b51e": {
          "model_module": "@jupyter-widgets/base",
          "model_name": "LayoutModel",
          "model_module_version": "1.2.0",
          "state": {
            "_model_module": "@jupyter-widgets/base",
            "_model_module_version": "1.2.0",
            "_model_name": "LayoutModel",
            "_view_count": null,
            "_view_module": "@jupyter-widgets/base",
            "_view_module_version": "1.2.0",
            "_view_name": "LayoutView",
            "align_content": null,
            "align_items": null,
            "align_self": null,
            "border": null,
            "bottom": null,
            "display": null,
            "flex": null,
            "flex_flow": null,
            "grid_area": null,
            "grid_auto_columns": null,
            "grid_auto_flow": null,
            "grid_auto_rows": null,
            "grid_column": null,
            "grid_gap": null,
            "grid_row": null,
            "grid_template_areas": null,
            "grid_template_columns": null,
            "grid_template_rows": null,
            "height": null,
            "justify_content": null,
            "justify_items": null,
            "left": null,
            "margin": null,
            "max_height": null,
            "max_width": null,
            "min_height": null,
            "min_width": null,
            "object_fit": null,
            "object_position": null,
            "order": null,
            "overflow": null,
            "overflow_x": null,
            "overflow_y": null,
            "padding": null,
            "right": null,
            "top": null,
            "visibility": null,
            "width": null
          }
        },
        "3b5d17cfad3a4eb995e39bb4eb094c95": {
          "model_module": "@jupyter-widgets/controls",
          "model_name": "DescriptionStyleModel",
          "model_module_version": "1.5.0",
          "state": {
            "_model_module": "@jupyter-widgets/controls",
            "_model_module_version": "1.5.0",
            "_model_name": "DescriptionStyleModel",
            "_view_count": null,
            "_view_module": "@jupyter-widgets/base",
            "_view_module_version": "1.2.0",
            "_view_name": "StyleView",
            "description_width": ""
          }
        },
        "e7e8d3ae889943999ab1ff0a96b7c341": {
          "model_module": "@jupyter-widgets/base",
          "model_name": "LayoutModel",
          "model_module_version": "1.2.0",
          "state": {
            "_model_module": "@jupyter-widgets/base",
            "_model_module_version": "1.2.0",
            "_model_name": "LayoutModel",
            "_view_count": null,
            "_view_module": "@jupyter-widgets/base",
            "_view_module_version": "1.2.0",
            "_view_name": "LayoutView",
            "align_content": null,
            "align_items": null,
            "align_self": null,
            "border": null,
            "bottom": null,
            "display": null,
            "flex": null,
            "flex_flow": null,
            "grid_area": null,
            "grid_auto_columns": null,
            "grid_auto_flow": null,
            "grid_auto_rows": null,
            "grid_column": null,
            "grid_gap": null,
            "grid_row": null,
            "grid_template_areas": null,
            "grid_template_columns": null,
            "grid_template_rows": null,
            "height": null,
            "justify_content": null,
            "justify_items": null,
            "left": null,
            "margin": null,
            "max_height": null,
            "max_width": null,
            "min_height": null,
            "min_width": null,
            "object_fit": null,
            "object_position": null,
            "order": null,
            "overflow": null,
            "overflow_x": null,
            "overflow_y": null,
            "padding": null,
            "right": null,
            "top": null,
            "visibility": null,
            "width": null
          }
        },
        "84debea515924f9e9c73b83cd57048e6": {
          "model_module": "@jupyter-widgets/controls",
          "model_name": "ButtonStyleModel",
          "model_module_version": "1.5.0",
          "state": {
            "_model_module": "@jupyter-widgets/controls",
            "_model_module_version": "1.5.0",
            "_model_name": "ButtonStyleModel",
            "_view_count": null,
            "_view_module": "@jupyter-widgets/base",
            "_view_module_version": "1.2.0",
            "_view_name": "StyleView",
            "button_color": null,
            "font_weight": ""
          }
        },
        "a686bfc087564c598c0ab7ec8940b0cd": {
          "model_module": "@jupyter-widgets/base",
          "model_name": "LayoutModel",
          "model_module_version": "1.2.0",
          "state": {
            "_model_module": "@jupyter-widgets/base",
            "_model_module_version": "1.2.0",
            "_model_name": "LayoutModel",
            "_view_count": null,
            "_view_module": "@jupyter-widgets/base",
            "_view_module_version": "1.2.0",
            "_view_name": "LayoutView",
            "align_content": null,
            "align_items": null,
            "align_self": null,
            "border": null,
            "bottom": null,
            "display": null,
            "flex": null,
            "flex_flow": null,
            "grid_area": null,
            "grid_auto_columns": null,
            "grid_auto_flow": null,
            "grid_auto_rows": null,
            "grid_column": null,
            "grid_gap": null,
            "grid_row": null,
            "grid_template_areas": null,
            "grid_template_columns": null,
            "grid_template_rows": null,
            "height": null,
            "justify_content": null,
            "justify_items": null,
            "left": null,
            "margin": null,
            "max_height": null,
            "max_width": null,
            "min_height": null,
            "min_width": null,
            "object_fit": null,
            "object_position": null,
            "order": null,
            "overflow": null,
            "overflow_x": null,
            "overflow_y": null,
            "padding": null,
            "right": null,
            "top": null,
            "visibility": null,
            "width": null
          }
        },
        "cb1786147f8048698984f3712a3f17ef": {
          "model_module": "@jupyter-widgets/controls",
          "model_name": "ButtonStyleModel",
          "model_module_version": "1.5.0",
          "state": {
            "_model_module": "@jupyter-widgets/controls",
            "_model_module_version": "1.5.0",
            "_model_name": "ButtonStyleModel",
            "_view_count": null,
            "_view_module": "@jupyter-widgets/base",
            "_view_module_version": "1.2.0",
            "_view_name": "StyleView",
            "button_color": null,
            "font_weight": ""
          }
        },
        "7fb399b3760f4f579bbb9f7f1fe6884d": {
          "model_module": "@jupyter-widgets/base",
          "model_name": "LayoutModel",
          "model_module_version": "1.2.0",
          "state": {
            "_model_module": "@jupyter-widgets/base",
            "_model_module_version": "1.2.0",
            "_model_name": "LayoutModel",
            "_view_count": null,
            "_view_module": "@jupyter-widgets/base",
            "_view_module_version": "1.2.0",
            "_view_name": "LayoutView",
            "align_content": null,
            "align_items": null,
            "align_self": null,
            "border": null,
            "bottom": null,
            "display": null,
            "flex": null,
            "flex_flow": null,
            "grid_area": null,
            "grid_auto_columns": null,
            "grid_auto_flow": null,
            "grid_auto_rows": null,
            "grid_column": null,
            "grid_gap": null,
            "grid_row": null,
            "grid_template_areas": null,
            "grid_template_columns": null,
            "grid_template_rows": null,
            "height": null,
            "justify_content": null,
            "justify_items": null,
            "left": null,
            "margin": null,
            "max_height": null,
            "max_width": null,
            "min_height": null,
            "min_width": null,
            "object_fit": null,
            "object_position": null,
            "order": null,
            "overflow": null,
            "overflow_x": null,
            "overflow_y": null,
            "padding": null,
            "right": null,
            "top": null,
            "visibility": null,
            "width": null
          }
        },
        "da21ebabe23d4d80b75f1a002d4c9f8b": {
          "model_module": "@jupyter-widgets/controls",
          "model_name": "DescriptionStyleModel",
          "model_module_version": "1.5.0",
          "state": {
            "_model_module": "@jupyter-widgets/controls",
            "_model_module_version": "1.5.0",
            "_model_name": "DescriptionStyleModel",
            "_view_count": null,
            "_view_module": "@jupyter-widgets/base",
            "_view_module_version": "1.2.0",
            "_view_name": "StyleView",
            "description_width": ""
          }
        },
        "f5bd5742f96e46128ccacdb07610b7ce": {
          "model_module": "@jupyter-widgets/base",
          "model_name": "LayoutModel",
          "model_module_version": "1.2.0",
          "state": {
            "_model_module": "@jupyter-widgets/base",
            "_model_module_version": "1.2.0",
            "_model_name": "LayoutModel",
            "_view_count": null,
            "_view_module": "@jupyter-widgets/base",
            "_view_module_version": "1.2.0",
            "_view_name": "LayoutView",
            "align_content": null,
            "align_items": null,
            "align_self": null,
            "border": null,
            "bottom": null,
            "display": null,
            "flex": null,
            "flex_flow": null,
            "grid_area": null,
            "grid_auto_columns": null,
            "grid_auto_flow": null,
            "grid_auto_rows": null,
            "grid_column": null,
            "grid_gap": null,
            "grid_row": null,
            "grid_template_areas": null,
            "grid_template_columns": null,
            "grid_template_rows": null,
            "height": null,
            "justify_content": null,
            "justify_items": null,
            "left": null,
            "margin": null,
            "max_height": null,
            "max_width": null,
            "min_height": null,
            "min_width": null,
            "object_fit": null,
            "object_position": null,
            "order": null,
            "overflow": null,
            "overflow_x": null,
            "overflow_y": null,
            "padding": null,
            "right": null,
            "top": null,
            "visibility": null,
            "width": null
          }
        }
      }
    }
  },
  "cells": [
    {
      "cell_type": "markdown",
      "source": [
        "Abubakar Abdi"
      ],
      "metadata": {
        "id": "UiAozInvZwnn"
      }
    },
    {
      "cell_type": "code",
      "execution_count": null,
      "metadata": {
        "collapsed": true,
        "id": "j9-i8Ui1ZSq-"
      },
      "outputs": [],
      "source": [
        "#hide\n",
        "!pip install voila\n",
        "!jupyter serverextension enable --sys-prefix voila"
      ]
    },
    {
      "cell_type": "code",
      "source": [
        "# Mount google drive\n",
        "from google.colab import drive\n",
        "drive.mount('/content/gdrive/')"
      ],
      "metadata": {
        "colab": {
          "base_uri": "https://localhost:8080/"
        },
        "id": "SJtHu1sRLJdI",
        "outputId": "a0939aef-c956-44e4-b2e1-31dc447aebfc"
      },
      "execution_count": 30,
      "outputs": [
        {
          "output_type": "stream",
          "name": "stdout",
          "text": [
            "Mounted at /content/gdrive/\n"
          ]
        }
      ]
    },
    {
      "cell_type": "code",
      "source": [
        "#hide\n",
        "!pip install -Uqq fastbook\n",
        "import fastbook\n",
        "fastbook.setup_book()"
      ],
      "metadata": {
        "id": "y_30Xl_QKdIp"
      },
      "execution_count": 32,
      "outputs": []
    },
    {
      "cell_type": "code",
      "source": [],
      "metadata": {
        "colab": {
          "base_uri": "https://localhost:8080/"
        },
        "id": "z6-fTVPIlmwZ",
        "outputId": "bb5842e7-0b76-4183-d172-d4d8c3b999f5"
      },
      "execution_count": 12,
      "outputs": [
        {
          "output_type": "stream",
          "name": "stdout",
          "text": [
            "Drive already mounted at /content/drive; to attempt to forcibly remount, call drive.mount(\"/content/drive\", force_remount=True).\n"
          ]
        }
      ]
    },
    {
      "cell_type": "code",
      "source": [
        "#hide\n",
        "from fastbook import *\n",
        "from fastai.vision.widgets import *"
      ],
      "metadata": {
        "id": "7oROCKbLm7xA"
      },
      "execution_count": 33,
      "outputs": []
    },
    {
      "cell_type": "code",
      "source": [
        "# Load the model from the file in Google Drive\n",
        "learn_inf = load_learner('/content/gdrive/My Drive/CPSC-171/HW1/shoes_model.pkl')"
      ],
      "metadata": {
        "id": "VTfz9g1ArNVT"
      },
      "execution_count": 35,
      "outputs": []
    },
    {
      "cell_type": "code",
      "source": [
        "# testing a nike shoe\n",
        "#hide\n",
        "ims = ['https://static.nike.com/a/images/t_PDP_1728_v1/f_auto,q_auto:eco/fc6b721f-3206-4507-9f42-12890565005e/NIKE+SB+REACT+LEO.png']\n",
        "dest = 'images/nike_sneakers.png'\n",
        "download_url(ims[0], dest)"
      ],
      "metadata": {
        "colab": {
          "base_uri": "https://localhost:8080/",
          "height": 54
        },
        "id": "p8TecW8BrsAG",
        "outputId": "458b1737-1660-4954-b59f-f3afa63bb927"
      },
      "execution_count": 36,
      "outputs": [
        {
          "output_type": "display_data",
          "data": {
            "text/plain": [
              "<IPython.core.display.HTML object>"
            ],
            "text/html": [
              "\n",
              "<style>\n",
              "    /* Turns off some styling */\n",
              "    progress {\n",
              "        /* gets rid of default border in Firefox and Opera. */\n",
              "        border: none;\n",
              "        /* Needs to be in here for Safari polyfill so background images work as expected. */\n",
              "        background-size: auto;\n",
              "    }\n",
              "    progress:not([value]), progress:not([value])::-webkit-progress-bar {\n",
              "        background: repeating-linear-gradient(45deg, #7e7e7e, #7e7e7e 10px, #5c5c5c 10px, #5c5c5c 20px);\n",
              "    }\n",
              "    .progress-bar-interrupted, .progress-bar-interrupted::-webkit-progress-bar {\n",
              "        background: #F44336;\n",
              "    }\n",
              "</style>\n"
            ]
          },
          "metadata": {}
        },
        {
          "output_type": "display_data",
          "data": {
            "text/plain": [
              "<IPython.core.display.HTML object>"
            ],
            "text/html": [
              "\n",
              "    <div>\n",
              "      <progress value='131072' class='' max='125650' style='width:300px; height:20px; vertical-align: middle;'></progress>\n",
              "      104.32% [131072/125650 00:00&lt;00:00]\n",
              "    </div>\n",
              "    "
            ]
          },
          "metadata": {}
        },
        {
          "output_type": "execute_result",
          "data": {
            "text/plain": [
              "Path('images/nike_sneakers.png')"
            ]
          },
          "metadata": {},
          "execution_count": 36
        }
      ]
    },
    {
      "cell_type": "code",
      "source": [
        "learn_inf.predict('images/nike_sneakers.png')"
      ],
      "metadata": {
        "colab": {
          "base_uri": "https://localhost:8080/",
          "height": 34
        },
        "id": "ZdGa2P2JsVxz",
        "outputId": "ce66e895-82e9-4ad0-ac9b-43bd60631f88"
      },
      "execution_count": 37,
      "outputs": [
        {
          "output_type": "display_data",
          "data": {
            "text/plain": [
              "<IPython.core.display.HTML object>"
            ],
            "text/html": [
              "\n",
              "<style>\n",
              "    /* Turns off some styling */\n",
              "    progress {\n",
              "        /* gets rid of default border in Firefox and Opera. */\n",
              "        border: none;\n",
              "        /* Needs to be in here for Safari polyfill so background images work as expected. */\n",
              "        background-size: auto;\n",
              "    }\n",
              "    progress:not([value]), progress:not([value])::-webkit-progress-bar {\n",
              "        background: repeating-linear-gradient(45deg, #7e7e7e, #7e7e7e 10px, #5c5c5c 10px, #5c5c5c 20px);\n",
              "    }\n",
              "    .progress-bar-interrupted, .progress-bar-interrupted::-webkit-progress-bar {\n",
              "        background: #F44336;\n",
              "    }\n",
              "</style>\n"
            ]
          },
          "metadata": {}
        },
        {
          "output_type": "display_data",
          "data": {
            "text/plain": [
              "<IPython.core.display.HTML object>"
            ],
            "text/html": []
          },
          "metadata": {}
        },
        {
          "output_type": "execute_result",
          "data": {
            "text/plain": [
              "('sneakers', tensor(2), tensor([2.6929e-04, 5.6499e-03, 9.9408e-01]))"
            ]
          },
          "metadata": {},
          "execution_count": 37
        }
      ]
    },
    {
      "cell_type": "code",
      "source": [
        "# Button upload\n",
        "btn_upload = widgets.FileUpload()"
      ],
      "metadata": {
        "id": "N2_Uu-JctSX7"
      },
      "execution_count": 49,
      "outputs": []
    },
    {
      "cell_type": "code",
      "source": [
        "img = PILImage.create(btn_upload.data[0])"
      ],
      "metadata": {
        "id": "9BWWe2yXuCrl"
      },
      "execution_count": 40,
      "outputs": []
    },
    {
      "cell_type": "code",
      "source": [
        "out_pl = widgets.Output()\n",
        "out_pl.clear_output()\n",
        "with out_pl: display(img.to_thumb(128,128))\n",
        "# out_pl"
      ],
      "metadata": {
        "id": "Ooii7Q66uO_W"
      },
      "execution_count": 50,
      "outputs": []
    },
    {
      "cell_type": "code",
      "source": [
        "#hide_output\n",
        "pred,pred_idx,probs = learn_inf.predict(img)"
      ],
      "metadata": {
        "colab": {
          "base_uri": "https://localhost:8080/",
          "height": 17
        },
        "id": "NcyTMzbZtIPc",
        "outputId": "38d31f17-dd5c-4ddb-b9bf-b5c5c1c37c57"
      },
      "execution_count": 42,
      "outputs": [
        {
          "output_type": "display_data",
          "data": {
            "text/plain": [
              "<IPython.core.display.HTML object>"
            ],
            "text/html": [
              "\n",
              "<style>\n",
              "    /* Turns off some styling */\n",
              "    progress {\n",
              "        /* gets rid of default border in Firefox and Opera. */\n",
              "        border: none;\n",
              "        /* Needs to be in here for Safari polyfill so background images work as expected. */\n",
              "        background-size: auto;\n",
              "    }\n",
              "    progress:not([value]), progress:not([value])::-webkit-progress-bar {\n",
              "        background: repeating-linear-gradient(45deg, #7e7e7e, #7e7e7e 10px, #5c5c5c 10px, #5c5c5c 20px);\n",
              "    }\n",
              "    .progress-bar-interrupted, .progress-bar-interrupted::-webkit-progress-bar {\n",
              "        background: #F44336;\n",
              "    }\n",
              "</style>\n"
            ]
          },
          "metadata": {}
        },
        {
          "output_type": "display_data",
          "data": {
            "text/plain": [
              "<IPython.core.display.HTML object>"
            ],
            "text/html": []
          },
          "metadata": {}
        }
      ]
    },
    {
      "cell_type": "code",
      "source": [
        "lbl_pred = widgets.Label()\n",
        "lbl_pred.value = f'Prediction: {pred}; Probability: {probs[pred_idx]:.04f}'\n",
        "# lbl_pred"
      ],
      "metadata": {
        "id": "XKcxTIGTuWDK"
      },
      "execution_count": 51,
      "outputs": []
    },
    {
      "cell_type": "code",
      "source": [
        "btn_run = widgets.Button(description='Classify')\n",
        "# btn_run"
      ],
      "metadata": {
        "id": "Q8-EMXU3ucZY"
      },
      "execution_count": 52,
      "outputs": []
    },
    {
      "cell_type": "code",
      "source": [
        "def on_click_classify(change):\n",
        "    img = PILImage.create(btn_upload.data[0])\n",
        "    out_pl.clear_output()\n",
        "    with out_pl: display(img.to_thumb(128,128))\n",
        "    pred,pred_idx,probs = learn_inf.predict(img)\n",
        "    lbl_pred.value = f'Prediction: {pred}; Probability: {probs[pred_idx]:.04f}'\n",
        "\n",
        "btn_run.on_click(on_click_classify)"
      ],
      "metadata": {
        "id": "v-79txrttAHa"
      },
      "execution_count": 53,
      "outputs": []
    },
    {
      "cell_type": "code",
      "source": [
        "btn_upload = widgets.FileUpload()"
      ],
      "metadata": {
        "id": "4lBLFOxZujdu"
      },
      "execution_count": 46,
      "outputs": []
    },
    {
      "cell_type": "code",
      "source": [
        "VBox([widgets.Label('Select your Shoe!'),\n",
        "      btn_upload, btn_run, out_pl, lbl_pred])"
      ],
      "metadata": {
        "colab": {
          "base_uri": "https://localhost:8080/",
          "height": 273,
          "referenced_widgets": [
            "8430508adb994c8eb5985cc2dce9a916",
            "a9e32da1a670403593e3e7e9fab412a7",
            "a28683ad45de42378ea191026437bfca",
            "5d8f391083284815a72159d6164cdcf3",
            "477d34bb0de14793a9eb84f3d63076b4",
            "c71f10beb0c142d390f61f2539b42203",
            "e42060646eec4e7aa012982983d534d4",
            "bc0cad839fa7409faf1e07c795e9b51e",
            "3b5d17cfad3a4eb995e39bb4eb094c95",
            "e7e8d3ae889943999ab1ff0a96b7c341",
            "84debea515924f9e9c73b83cd57048e6",
            "a686bfc087564c598c0ab7ec8940b0cd",
            "cb1786147f8048698984f3712a3f17ef",
            "7fb399b3760f4f579bbb9f7f1fe6884d",
            "da21ebabe23d4d80b75f1a002d4c9f8b",
            "f5bd5742f96e46128ccacdb07610b7ce"
          ]
        },
        "id": "Z62dkcNpuoBa",
        "outputId": "218951b7-22b1-46da-97cd-c2c2722388e1"
      },
      "execution_count": 48,
      "outputs": [
        {
          "output_type": "display_data",
          "data": {
            "text/plain": [
              "VBox(children=(Label(value='Select your Shoe!'), FileUpload(value={'boots.webp': {'metadata': {'name': 'boots.…"
            ],
            "application/vnd.jupyter.widget-view+json": {
              "version_major": 2,
              "version_minor": 0,
              "model_id": "8430508adb994c8eb5985cc2dce9a916"
            }
          },
          "metadata": {}
        },
        {
          "output_type": "display_data",
          "data": {
            "text/plain": [
              "<IPython.core.display.HTML object>"
            ],
            "text/html": [
              "\n",
              "<style>\n",
              "    /* Turns off some styling */\n",
              "    progress {\n",
              "        /* gets rid of default border in Firefox and Opera. */\n",
              "        border: none;\n",
              "        /* Needs to be in here for Safari polyfill so background images work as expected. */\n",
              "        background-size: auto;\n",
              "    }\n",
              "    progress:not([value]), progress:not([value])::-webkit-progress-bar {\n",
              "        background: repeating-linear-gradient(45deg, #7e7e7e, #7e7e7e 10px, #5c5c5c 10px, #5c5c5c 20px);\n",
              "    }\n",
              "    .progress-bar-interrupted, .progress-bar-interrupted::-webkit-progress-bar {\n",
              "        background: #F44336;\n",
              "    }\n",
              "</style>\n"
            ]
          },
          "metadata": {}
        },
        {
          "output_type": "display_data",
          "data": {
            "text/plain": [
              "<IPython.core.display.HTML object>"
            ],
            "text/html": []
          },
          "metadata": {}
        },
        {
          "output_type": "display_data",
          "data": {
            "text/plain": [
              "<IPython.core.display.HTML object>"
            ],
            "text/html": [
              "\n",
              "<style>\n",
              "    /* Turns off some styling */\n",
              "    progress {\n",
              "        /* gets rid of default border in Firefox and Opera. */\n",
              "        border: none;\n",
              "        /* Needs to be in here for Safari polyfill so background images work as expected. */\n",
              "        background-size: auto;\n",
              "    }\n",
              "    progress:not([value]), progress:not([value])::-webkit-progress-bar {\n",
              "        background: repeating-linear-gradient(45deg, #7e7e7e, #7e7e7e 10px, #5c5c5c 10px, #5c5c5c 20px);\n",
              "    }\n",
              "    .progress-bar-interrupted, .progress-bar-interrupted::-webkit-progress-bar {\n",
              "        background: #F44336;\n",
              "    }\n",
              "</style>\n"
            ]
          },
          "metadata": {}
        },
        {
          "output_type": "display_data",
          "data": {
            "text/plain": [
              "<IPython.core.display.HTML object>"
            ],
            "text/html": []
          },
          "metadata": {}
        }
      ]
    }
  ]
}